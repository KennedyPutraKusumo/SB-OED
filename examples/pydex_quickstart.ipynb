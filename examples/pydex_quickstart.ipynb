{
  "nbformat": 4,
  "nbformat_minor": 0,
  "metadata": {
    "kernelspec": {
      "display_name": "Python 3",
      "language": "python",
      "name": "python3"
    },
    "language_info": {
      "codemirror_mode": {
        "name": "ipython",
        "version": 3
      },
      "file_extension": ".py",
      "mimetype": "text/x-python",
      "name": "python",
      "nbconvert_exporter": "python",
      "pygments_lexer": "ipython3",
      "version": "3.7.1"
    },
    "colab": {
      "name": "pydex_quickstart.ipynb",
      "provenance": [],
      "collapsed_sections": [],
      "include_colab_link": true
    }
  },
  "cells": [
    {
      "cell_type": "markdown",
      "metadata": {
        "id": "view-in-github",
        "colab_type": "text"
      },
      "source": [
        "<a href=\"https://colab.research.google.com/github/KennedyPutraKusumo/pydex/blob/master/examples%5Cpydex_quickstart.ipynb\" target=\"_parent\"><img src=\"https://colab.research.google.com/assets/colab-badge.svg\" alt=\"Open In Colab\"/></a>"
      ]
    },
    {
      "cell_type": "markdown",
      "metadata": {
        "id": "yO7bwEgnngLl",
        "colab_type": "text"
      },
      "source": [
        "# Problem Setting\n",
        "Consider a steady-state system with 2 control variables and 1 response. An order 1 polynomial response surface model is to be developed for the system. You are tasked with designing the experiments for calibrating the model. Use principles of optimal experiment design to design maximally informative experiments. Since the exact number of experiments to be ran is not specified, it is desirable to design an approximate experiment design."
      ]
    },
    {
      "cell_type": "markdown",
      "metadata": {
        "id": "RiJu0OLWoEYq",
        "colab_type": "text"
      },
      "source": [
        "# Step 1: import packages\n",
        "The first step is to import the required packages. This comprises of pydex's designer class, and numpy."
      ]
    },
    {
      "cell_type": "code",
      "metadata": {
        "id": "DgoXeEL6ngLu",
        "colab_type": "code",
        "colab": {}
      },
      "source": [
        "from pydex.core.designer import Designer\n",
        "import numpy as np"
      ],
      "execution_count": 0,
      "outputs": []
    },
    {
      "cell_type": "markdown",
      "metadata": {
        "id": "RujnRvycoUvh",
        "colab_type": "text"
      },
      "source": [
        "# Step 2: specify the model as a simulate function\n",
        "The model is specified as a Python function with a specific signature that needs to be followed strictly (order matters). Here, because our system is a steady-state system with only one response. The simulate function must return a numpy array, which in this case happens to contain a single element. In cases where we have $n_r$ number of responses and a dynamic system with $N_{\\textrm{spt}}$ number of sampling times, the function must return a numpy array with shape $N_{\\textrm{spt}} \\times n_{r}$.\n",
        "\n",
        "For now, note that even though the system is steady-state, the simulate signature still requires tv_controls, and sampling times to be passed in."
      ]
    },
    {
      "cell_type": "code",
      "metadata": {
        "id": "bXTy5_9uoo0A",
        "colab_type": "code",
        "colab": {}
      },
      "source": [
        "def simulate(ti_controls, tv_controls, model_parameters, sampling_times):\n",
        "    return np.array([\n",
        "        # constant term\n",
        "        model_parameters[0] +\n",
        "        # linear term\n",
        "        model_parameters[1] * ti_controls[0]                    +\n",
        "        model_parameters[2] * ti_controls[1]                    +\n",
        "        # interaction term\n",
        "        model_parameters[3] * ti_controls[0] * ti_controls[1]\n",
        "    ])"
      ],
      "execution_count": 0,
      "outputs": []
    },
    {
      "cell_type": "markdown",
      "metadata": {
        "id": "SZgMjvL6vjFk",
        "colab_type": "text"
      },
      "source": [
        "# Step 3: instantiate a designer and declare the simulate function\n",
        "Once a designer is instantiated, it has a pre-defined method called simulate that is meant to be overwritten. If this pre-defined method is not overwritten, pydex will raise a SyntaxError exception during initialization."
      ]
    },
    {
      "cell_type": "code",
      "metadata": {
        "id": "uZ-Y7u72v8qi",
        "colab_type": "code",
        "colab": {}
      },
      "source": [
        "designer_1 = Designer()\n",
        "designer_1.simulate = simulate"
      ],
      "execution_count": 0,
      "outputs": []
    },
    {
      "cell_type": "markdown",
      "metadata": {
        "id": "CnPJolrKw0mq",
        "colab_type": "text"
      },
      "source": [
        "# Step 4: specify nominal model parameter values\n",
        "The response surface model for this example is a linear model (with respect to its model parameters). This means that the optimal design for the model is independent of the model parameter values. But, at the moment, pydex still requires nominal model parameter values to be passed to the designer. You can pick any value, and it will not affect the result. For this example, we choose a value of 1 for all four model parameters.\n",
        "\n",
        "The syntax is again similar with specifying the simulate function. When instantiated, a designer will come with a pre-defined attribute named \"model_parameters\" that needs to be overwritten. We overwrite this with a 1D numpy array with all elements equal to one."
      ]
    },
    {
      "cell_type": "code",
      "metadata": {
        "id": "bYtBDTKZx6lH",
        "colab_type": "code",
        "colab": {}
      },
      "source": [
        "designer_1.model_parameters = np.ones(4)"
      ],
      "execution_count": 0,
      "outputs": []
    },
    {
      "cell_type": "markdown",
      "metadata": {
        "id": "T3pTdhfNyTjl",
        "colab_type": "text"
      },
      "source": [
        "# Step 5: pass in experimental candidates to optimize over\n",
        "This step is specific to the discrete approach to optimal experiment design. And before proceeding, it is important to note that it is customary in optimal experiment design to normalize the experimental controls so they take values between -1 and 1.\n",
        "\n",
        "For this example, since we have two experimental controls, we will need to generate a 2D numpy array with shapes $N_c \\times 2$; where $N_c$ is the total number of experimental candidates. For simplicity, we will pass in candidates from a 2D mesh-centered grid with 11 levels in each dimension. This leads to a total of $11^2$ number of experimental candidates. To generate the required 2D numpy array, we will use the numpy function mgrid (a shortcut for np.meshgrid).\n",
        "\n"
      ]
    },
    {
      "cell_type": "code",
      "metadata": {
        "id": "d774l7xLz3my",
        "colab_type": "code",
        "colab": {}
      },
      "source": [
        "tic_1, tic_2 = np.mgrid[-1:1:11j, -1:1:11j]  # tic stands for time-invariant control"
      ],
      "execution_count": 0,
      "outputs": []
    },
    {
      "cell_type": "markdown",
      "metadata": {
        "id": "ytUITv5G0ALv",
        "colab_type": "text"
      },
      "source": [
        "A minor note: the complex integer \"11j\" tells np.mgrid to generate a grid with 11 levels i.e., it tells np.mgrid the number of steps. If a real integer was used (i.e. 11), np.mgrid will instead interpret the argument as the step lengths."
      ]
    },
    {
      "cell_type": "markdown",
      "metadata": {
        "id": "RCZvFrjn1E4w",
        "colab_type": "text"
      },
      "source": [
        "Flattening, collecting, and transposing the returned arrays to get the required 2D numpy array in the right shape."
      ]
    },
    {
      "cell_type": "code",
      "metadata": {
        "id": "Modi0kKq1O_K",
        "colab_type": "code",
        "colab": {}
      },
      "source": [
        "tic_1 = tic_1.flatten() \n",
        "tic_2 = tic_2.flatten()\n",
        "designer_1.ti_controls_candidates = np.array([tic_1, tic_2]).T"
      ],
      "execution_count": 0,
      "outputs": []
    },
    {
      "cell_type": "markdown",
      "metadata": {
        "id": "nfAH-JP-1Vm8",
        "colab_type": "text"
      },
      "source": [
        "# Step 6: initialize the designer\n",
        "Before the designer can be used to conduct any activity, it needs to be initialized. During initialization, the designer is going to do two things. First, check if there are any syntax errors made so far. Second, run a single simulation (using the first experimental candidate) to determine the number of responses (as defined in the simulate function).\n",
        "\n",
        "Here, we also have a choice to determine how verbal we want the designer to be as it conducts experiment design, or any other activity. This is done by setting the verbose value. Note: although not a must, verbose is recommended to be a positive integer. 0: silent, 1: overview, 2: detailed, 3: very detailed"
      ]
    },
    {
      "cell_type": "markdown",
      "metadata": {
        "id": "bQD22lJ21yNj",
        "colab_type": "text"
      },
      "source": [
        ""
      ]
    },
    {
      "cell_type": "code",
      "metadata": {
        "id": "cxCR2z5x1yh_",
        "colab_type": "code",
        "outputId": "b108c653-0853-477a-ffa2-90bf0a044938",
        "colab": {
          "base_uri": "https://localhost:8080/",
          "height": 68
        }
      },
      "source": [
        "designer_1.initialize(verbose=2)"
      ],
      "execution_count": 0,
      "outputs": [
        {
          "output_type": "stream",
          "text": [
            "Running one simulation for initialization (required to determine number of responses).\n",
            "Initialization complete: designer ready.\n"
          ],
          "name": "stdout"
        },
        {
          "output_type": "execute_result",
          "data": {
            "text/plain": [
              "'ready'"
            ]
          },
          "metadata": {
            "tags": []
          },
          "execution_count": 29
        }
      ]
    },
    {
      "cell_type": "markdown",
      "metadata": {
        "id": "1s46zD7u2wmx",
        "colab_type": "text"
      },
      "source": [
        "# Step 7: design experiment"
      ]
    },
    {
      "cell_type": "code",
      "metadata": {
        "id": "pKxd47Q12wcE",
        "colab_type": "code",
        "outputId": "9bf76cfa-6702-45e5-e99c-a1ece0d93c9b",
        "colab": {
          "base_uri": "https://localhost:8080/",
          "height": 612
        }
      },
      "source": [
        "result = designer_1.design_experiment(designer_1.d_opt_criterion, write=False, optimizer=\"SCS\")"
      ],
      "execution_count": 0,
      "outputs": [
        {
          "output_type": "stream",
          "text": [
            "Solving OED problem...\n",
            "----------------------------------------------------------------------------\n",
            "\tSCS v2.1.2 - Splitting Conic Solver\n",
            "\t(c) Brendan O'Donoghue, Stanford University, 2012\n",
            "----------------------------------------------------------------------------\n",
            "Lin-sys: sparse-direct, nnz in A = 3110\n",
            "eps = 1.00e-04, alpha = 1.50, max_iters = 5000, normalize = 1, scale = 1.00\n",
            "acceleration_lookback = 10, rho_x = 1.00e-03\n",
            "Variables n = 181, constraints m = 238\n",
            "Cones:\tprimal zero / dual free vars: 59\n",
            "\tlinear vars: 121\n",
            "\tsd vars: 46, sd blks: 2\n",
            "\texp vars: 12, dual exp vars: 0\n",
            "Setup time: 6.94e-03s\n",
            "----------------------------------------------------------------------------\n",
            " Iter | pri res | dua res | rel gap | pri obj | dua obj | kap/tau | time (s)\n",
            "----------------------------------------------------------------------------\n",
            "     0| 2.74e+19  1.41e+20  1.00e+00 -1.01e+20  2.09e+20  2.14e+20  8.39e-03 \n",
            "    80| 1.18e-07  7.78e-07  3.94e-07  7.58e-07  1.15e-06  8.77e-17  2.82e-02 \n",
            "----------------------------------------------------------------------------\n",
            "Status: Solved\n",
            "Timing: Solve time: 2.83e-02s\n",
            "\tLin-sys: nnz in L factor: 3880, avg solve time: 1.73e-05s\n",
            "\tCones: avg projection time: 1.65e-04s\n",
            "\tAcceleration: avg step time: 4.68e-05s\n",
            "----------------------------------------------------------------------------\n",
            "Error metrics:\n",
            "dist(s, K) = 1.1751e-09, dist(y, K*) = 1.6388e-09, s'y/|s||y| = 2.3275e-11\n",
            "primal res: |Ax + s - b|_2 / (1 + |b|_2) = 1.1770e-07\n",
            "dual res:   |A'y + c|_2 / (1 + |c|_2) = 7.7786e-07\n",
            "rel gap:    |c'x + b'y| / (1 + |c'x| + |b'y|) = 3.9406e-07\n",
            "----------------------------------------------------------------------------\n",
            "c'x = 0.0000, -b'y = 0.0000\n",
            "============================================================================\n",
            "Done: sensitivity analysis took 0.30 CPU seconds; the optimizer SCS interfaced via the cvxpy package solved the optimization problem in 0.18 CPU seconds.\n"
          ],
          "name": "stdout"
        }
      ]
    },
    {
      "cell_type": "markdown",
      "metadata": {
        "id": "OCoanbGZ268K",
        "colab_type": "text"
      },
      "source": [
        "# Step 8: view results\n",
        "\n"
      ]
    },
    {
      "cell_type": "code",
      "metadata": {
        "id": "PTOHYsp5246I",
        "colab_type": "code",
        "outputId": "53ce9d62-f1b6-4125-9192-901a822c6b77",
        "colab": {
          "base_uri": "https://localhost:8080/",
          "height": 819
        }
      },
      "source": [
        "designer_1.print_optimal_candidates()\n",
        "designer_1.plot_current_design()\n"
      ],
      "execution_count": 0,
      "outputs": [
        {
          "output_type": "stream",
          "text": [
            "-------------------------------------------[Candidate 1]--------------------------------------------\n",
            "                                Recommended Effort: 25.00% of budget                                \n",
            "Time-invariant Controls:\n",
            "[-1. -1.]\n",
            "-------------------------------------------[Candidate 11]-------------------------------------------\n",
            "                                Recommended Effort: 25.00% of budget                                \n",
            "Time-invariant Controls:\n",
            "[-1.  1.]\n",
            "------------------------------------------[Candidate 111]-------------------------------------------\n",
            "                                Recommended Effort: 25.00% of budget                                \n",
            "Time-invariant Controls:\n",
            "[ 1. -1.]\n",
            "------------------------------------------[Candidate 121]-------------------------------------------\n",
            "                                Recommended Effort: 25.00% of budget                                \n",
            "Time-invariant Controls:\n",
            "[1. 1.]\n",
            "####################################################################################################\n",
            "Plotting current continuous design.\n"
          ],
          "name": "stdout"
        },
        {
          "output_type": "display_data",
          "data": {
            "image/png": "[encoded data removed]",
            "text/plain": [
              "<Figure size 1080x504 with 1 Axes>"
            ]
          },
          "metadata": {
            "tags": [],
            "needs_background": "light"
          }
        }
      ]
    },
    {
      "cell_type": "markdown",
      "metadata": {
        "id": "cdx0SRbl3ILz",
        "colab_type": "text"
      },
      "source": [
        "For this specific example, we expect a standard factorial design. This means that we may want to view the results manually. Here, we present the design in the most familiar way to confirm that the design really is a factorial design."
      ]
    },
    {
      "cell_type": "code",
      "metadata": {
        "id": "B4w-OYSd3HBX",
        "colab_type": "code",
        "outputId": "5543e2bc-12ed-43f7-8467-db2104bc05b0",
        "colab": {
          "base_uri": "https://localhost:8080/",
          "height": 279
        }
      },
      "source": [
        "from matplotlib import pyplot as plt\n",
        "\n",
        "fig1 = plt.figure()\n",
        "axes1 = fig1.add_subplot(111)\n",
        "axes1.scatter(designer_1.ti_controls_candidates[:, 0], designer_1.ti_controls_candidates[:, 1],\n",
        "              s=np.round(designer_1.efforts*1000, decimals=2))\n",
        "axes1.set_xlabel(\"Control 1\")\n",
        "axes1.set_ylabel(\"Control 2\")\n",
        "axes1.set_xticks([-1, -.5, 0, .5, 1])\n",
        "axes1.set_yticks([-1, -.5, 0, .5, 1])\n",
        "plt.show()"
      ],
      "execution_count": 0,
      "outputs": [
        {
          "output_type": "display_data",
          "data": {
            "image/png": "[encoded data removed]",
            "text/plain": [
              "<Figure size 432x288 with 1 Axes>"
            ]
          },
          "metadata": {
            "tags": [],
            "needs_background": "light"
          }
        }
      ]
    }
  ]
}
