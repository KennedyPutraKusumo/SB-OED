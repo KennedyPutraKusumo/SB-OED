{
  "nbformat": 4,
  "nbformat_minor": 0,
  "metadata": {
    "kernelspec": {
      "display_name": "Python 3",
      "language": "python",
      "name": "python3"
    },
    "language_info": {
      "codemirror_mode": {
        "name": "ipython",
        "version": 3
      },
      "file_extension": ".py",
      "mimetype": "text/x-python",
      "name": "python",
      "nbconvert_exporter": "python",
      "pygments_lexer": "ipython3",
      "version": "3.7.1"
    },
    "colab": {
      "name": "pydex_quickstart.ipynb",
      "provenance": [],
      "collapsed_sections": [],
      "include_colab_link": true
    }
  },
  "cells": [
    {
      "cell_type": "markdown",
      "metadata": {
        "id": "view-in-github",
        "colab_type": "text"
      },
      "source": [
        "<a href=\"https://colab.research.google.com/github/KennedyPutraKusumo/pydex/blob/master/examples/pydex_quickstart.ipynb\" target=\"_parent\"><img src=\"https://colab.research.google.com/assets/colab-badge.svg\" alt=\"Open In Colab\"/></a>"
      ]
    },
    {
      "cell_type": "markdown",
      "metadata": {
        "id": "yO7bwEgnngLl",
        "colab_type": "text"
      },
      "source": [
        "# Problem Setting\n",
        "Consider a steady-state system with 2 control variables $x_1, x_2$ and 1 response $y$. An order 1 polynomial response surface model is to be developed for the system. You are tasked with designing the experiments for calibrating the model. Use principles of optimal experiment design to design maximally informative experiments. Since the exact number of experiments to be ran is not specified, it is desirable to design an approximate experiment design.\n",
        "\n",
        "$y = \\theta_0 + \\theta_1 x_1 + \\theta_2 x_2 + \\epsilon$,\n",
        "\n",
        "where $\\epsilon$ is the random error, normally distributed with zero mean and a given standard deviation $\\sigma$."
      ]
    },
    {
      "cell_type": "code",
      "metadata": {
        "id": "V4RuQ-5_TE2c",
        "colab_type": "code",
        "colab": {
          "base_uri": "https://localhost:8080/",
          "height": 204
        },
        "outputId": "eff7435d-ce11-4aaa-e638-7d93b7be196e"
      },
      "source": [
        "!pip install pydex==0.0.3\n",
        "!pip install numdifftools\n",
        "!pip install cvxpy"
      ],
      "execution_count": 7,
      "outputs": [
        {
          "output_type": "stream",
          "text": [
            "Requirement already satisfied: pydex==0.0.3 in /usr/local/lib/python3.6/dist-packages (0.0.3)\n",
            "Requirement already satisfied: numdifftools in /usr/local/lib/python3.6/dist-packages (0.9.39)\n",
            "Requirement already satisfied: cvxpy in /usr/local/lib/python3.6/dist-packages (1.0.31)\n",
            "Requirement already satisfied: scipy>=1.1.0 in /usr/local/lib/python3.6/dist-packages (from cvxpy) (1.4.1)\n",
            "Requirement already satisfied: multiprocess in /usr/local/lib/python3.6/dist-packages (from cvxpy) (0.70.10)\n",
            "Requirement already satisfied: scs>=1.1.3 in /usr/local/lib/python3.6/dist-packages (from cvxpy) (2.1.2)\n",
            "Requirement already satisfied: ecos>=2 in /usr/local/lib/python3.6/dist-packages (from cvxpy) (2.0.7.post1)\n",
            "Requirement already satisfied: numpy>=1.15 in /usr/local/lib/python3.6/dist-packages (from cvxpy) (1.18.5)\n",
            "Requirement already satisfied: osqp>=0.4.1 in /usr/local/lib/python3.6/dist-packages (from cvxpy) (0.6.1)\n",
            "Requirement already satisfied: dill>=0.3.2 in /usr/local/lib/python3.6/dist-packages (from multiprocess->cvxpy) (0.3.2)\n",
            "Requirement already satisfied: future in /usr/local/lib/python3.6/dist-packages (from osqp>=0.4.1->cvxpy) (0.16.0)\n"
          ],
          "name": "stdout"
        }
      ]
    },
    {
      "cell_type": "markdown",
      "metadata": {
        "id": "RiJu0OLWoEYq",
        "colab_type": "text"
      },
      "source": [
        "# Step 1: import packages\n",
        "The first step is to import the required packages. This comprises of pydex's designer class, and numpy."
      ]
    },
    {
      "cell_type": "code",
      "metadata": {
        "id": "DgoXeEL6ngLu",
        "colab_type": "code",
        "colab": {}
      },
      "source": [
        "from pydex.core.designer import Designer\n",
        "import numpy as np"
      ],
      "execution_count": 8,
      "outputs": []
    },
    {
      "cell_type": "markdown",
      "metadata": {
        "id": "RujnRvycoUvh",
        "colab_type": "text"
      },
      "source": [
        "# Step 2: specify the model as a simulate function\n",
        "Here, our system is a steady-state system with two experimental variables, and a single response. The model is specified as a Python function with a specific signature that needs to be followed strictly (order matters). Because we have a steady-state system, our simulate function will have two input arguments, ti_controls, and model_parameters. The input ti_controls will be a 1D numpy array, containing the values of the two experimental variables that pydex will pass into the simulate function. The input model_parameters will also be a 1D numpy array, containing values of the model parameters. The simulate function must return a numpy array, containing a single element, representing the model's predicted response for the given ti_controls, and model_parameters."
      ]
    },
    {
      "cell_type": "code",
      "metadata": {
        "id": "bXTy5_9uoo0A",
        "colab_type": "code",
        "colab": {}
      },
      "source": [
        "def simulate(ti_controls, model_parameters):\n",
        "    return np.array([\n",
        "        # constant term\n",
        "        model_parameters[0] +\n",
        "        # linear term\n",
        "        model_parameters[1] * ti_controls[0]                    +\n",
        "        model_parameters[2] * ti_controls[1]\n",
        "    ])"
      ],
      "execution_count": 9,
      "outputs": []
    },
    {
      "cell_type": "markdown",
      "metadata": {
        "id": "SZgMjvL6vjFk",
        "colab_type": "text"
      },
      "source": [
        "# Step 3: instantiate a designer and declare the simulate function\n",
        "To start solving the optimal experimental design problem, we create an instance of pydex's designer. Once instantiated, we will assign the simulate function we have just created to pydex."
      ]
    },
    {
      "cell_type": "code",
      "metadata": {
        "id": "uZ-Y7u72v8qi",
        "colab_type": "code",
        "colab": {}
      },
      "source": [
        "designer_1 = Designer()\n",
        "designer_1.simulate = simulate"
      ],
      "execution_count": 13,
      "outputs": []
    },
    {
      "cell_type": "markdown",
      "metadata": {
        "id": "JNltr-PhVYoG",
        "colab_type": "text"
      },
      "source": [
        "To understand what is happening in a bit more detail. All created instances of pydex designers will come with pre-defined attributes and methods. One pre-defined method of interest here is the \"simulate\" method. This is meant to be overwritten. If this pre-defined method is not overwritten, pydex will raise a SyntaxError exception during initialization. This is a feature in pydex to remind you should you forget to specify the simulate function for your model."
      ]
    },
    {
      "cell_type": "markdown",
      "metadata": {
        "id": "CnPJolrKw0mq",
        "colab_type": "text"
      },
      "source": [
        "# Step 4: specify nominal model parameter values\n",
        "The response surface model for this example is a linear model (with respect to its model parameters). This means that the optimal design for the model is independent of the model parameter values. But, pydex still requires nominal model parameter values to be passed to the designer. You can pick any value, and it will not affect the result. For this example, we choose a value of 1 for all four model parameters. Getting the dimension of the model parameters defined here to be consistent with the dimension required in the simulate function is important."
      ]
    },
    {
      "cell_type": "code",
      "metadata": {
        "id": "bYtBDTKZx6lH",
        "colab_type": "code",
        "colab": {}
      },
      "source": [
        "designer_1.model_parameters = np.ones(4)"
      ],
      "execution_count": 14,
      "outputs": []
    },
    {
      "cell_type": "markdown",
      "metadata": {
        "id": "FesQD0lGV-8A",
        "colab_type": "text"
      },
      "source": [
        "The syntax is again similar with specifying the simulate function. When instantiated, a designer will come with a pre-defined attribute named \"model_parameters\" that needs to be overwritten. We overwrite this with a 1D numpy array with all elements equal to one."
      ]
    },
    {
      "cell_type": "markdown",
      "metadata": {
        "id": "T3pTdhfNyTjl",
        "colab_type": "text"
      },
      "source": [
        "# Step 5: pass in experimental candidates to optimize over\n",
        "This step is specific to how pydex solves optimal experiment design problems. Before proceeding, it is important to note that it is customary in optimal experiment design to normalize the experimental controls so they take values between -1 and 1.\n",
        "\n",
        "For this example, since we have two experimental controls, we will need to generate a 2D numpy array with shapes $N_c \\times 2$; where $N_c$ is the total number of experimental candidates. For simplicity, we will pass in candidates from a 2D mesh-centered grid with 11 levels in each dimension. This leads to a total of $11^2$ number of experimental candidates. To generate the required 2D numpy array, we will use pydex's convenient shortcut method: \"enumerate_candidates\".\n",
        "\n"
      ]
    },
    {
      "cell_type": "code",
      "metadata": {
        "id": "d774l7xLz3my",
        "colab_type": "code",
        "colab": {}
      },
      "source": [
        "tic = designer_1.enumerate_candidates(\n",
        "    bounds=[\n",
        "            [-1, 1],\n",
        "            [-1, 1],\n",
        "    ],\n",
        "    levels=[\n",
        "            11, \n",
        "            11,\n",
        "    ],\n",
        ")  # tic stands for time-invariant control"
      ],
      "execution_count": 15,
      "outputs": []
    },
    {
      "cell_type": "markdown",
      "metadata": {
        "id": "ytUITv5G0ALv",
        "colab_type": "text"
      },
      "source": [
        "After generating the required tic array, we need to pass it on to pydex. Now, we overwrite the pre-defined attribute ti_controls_candidates."
      ]
    },
    {
      "cell_type": "code",
      "metadata": {
        "id": "Modi0kKq1O_K",
        "colab_type": "code",
        "colab": {}
      },
      "source": [
        "designer_1.ti_controls_candidates = tic"
      ],
      "execution_count": 16,
      "outputs": []
    },
    {
      "cell_type": "markdown",
      "metadata": {
        "id": "nfAH-JP-1Vm8",
        "colab_type": "text"
      },
      "source": [
        "# Step 6: initialize the designer\n",
        "We have specified the model through the simulate function, and specified the experimental candidates through the overwriting the ti_controls_candidates attributes. We are ready to solve our experimental design problem.\n",
        "\n",
        "Before the designer can be used to conduct any activity, it needs to be initialized. During initialization, the designer is going to do two things. First, check if there are any syntax errors made so far. Second, run a single simulation (using the first experimental candidate) to determine the number of responses (as defined in the simulate function).\n",
        "\n",
        "During initialization, you will also have a choice to determine how verbal you want the designer to be as it conducts experiment design, or any other activity. This is done by setting the verbose value. Note: although you can assign any real values, verbose is recommended to be a positive integer. 0: silent, 1: overview, 2: detailed, 3: very detailed"
      ]
    },
    {
      "cell_type": "code",
      "metadata": {
        "id": "cxCR2z5x1yh_",
        "colab_type": "code",
        "colab": {
          "base_uri": "https://localhost:8080/",
          "height": 188
        },
        "outputId": "d1e4a55e-5ffa-4098-f09a-27b3aa0ffe86"
      },
      "source": [
        "designer_1.initialize(verbose=2)"
      ],
      "execution_count": 17,
      "outputs": [
        {
          "output_type": "stream",
          "text": [
            "====================================================================================================\n",
            "Initialization complete: designer ready.\n",
            "----------------------------------------------------------------------------------------------------\n",
            "Number of model parameters              : 4\n",
            "Number of candidates                    : 121\n",
            "Number of responses                     : 1\n",
            "Number of measured responses            : 1\n",
            "Number of time-invariant controls       : 2\n",
            "====================================================================================================\n"
          ],
          "name": "stdout"
        },
        {
          "output_type": "execute_result",
          "data": {
            "application/vnd.google.colaboratory.intrinsic+json": {
              "type": "string"
            },
            "text/plain": [
              "'ready'"
            ]
          },
          "metadata": {
            "tags": []
          },
          "execution_count": 17
        }
      ]
    },
    {
      "cell_type": "markdown",
      "metadata": {
        "id": "1s46zD7u2wmx",
        "colab_type": "text"
      },
      "source": [
        "# Step 7: design experiment"
      ]
    },
    {
      "cell_type": "code",
      "metadata": {
        "id": "pKxd47Q12wcE",
        "colab_type": "code",
        "colab": {
          "base_uri": "https://localhost:8080/",
          "height": 1000
        },
        "outputId": "6f402938-04bb-4727-835e-37a7573f979b"
      },
      "source": [
        "result = designer_1.design_experiment(designer_1.d_opt_criterion, write=False, optimizer=\"SCS\")"
      ],
      "execution_count": 18,
      "outputs": [
        {
          "output_type": "stream",
          "text": [
            "############################### Computing Optimal Experiment Design ################################\n",
            "Started on                              : 2020-09-09 10:17:04.647692\n",
            "Criterion                               : d_opt_criterion\n",
            "Pseudo-bayesian                         : False\n",
            "Dynamic                                 : False\n",
            "Time-invariant Controls                 : True\n",
            "Time-varying Controls                   : False\n",
            "Number of Candidates                    : 121\n",
            "---------------------------------------[Sensitivity Analysis]---------------------------------------\n",
            "[Candidate     13/121]: time elapsed            0.14 seconds.\n",
            "[Candidate     26/121]: time elapsed            0.17 seconds.\n",
            "[Candidate     39/121]: time elapsed            0.21 seconds.\n",
            "[Candidate     52/121]: time elapsed            0.24 seconds.\n",
            "[Candidate     65/121]: time elapsed            0.27 seconds.\n",
            "[Candidate     78/121]: time elapsed            0.31 seconds.\n",
            "[Candidate     91/121]: time elapsed            0.34 seconds.\n",
            "[Candidate    104/121]: time elapsed            0.37 seconds.\n",
            "[Candidate    117/121]: time elapsed            0.41 seconds.\n",
            "[Candidate    121/121]: time elapsed            0.42 seconds.\n",
            "----------------------------------------------------------------------------------------------------\n",
            "----------------------------------------------------------------------------\n",
            "\tSCS v2.1.2 - Splitting Conic Solver\n",
            "\t(c) Brendan O'Donoghue, Stanford University, 2012\n",
            "----------------------------------------------------------------------------\n",
            "Lin-sys: sparse-direct, nnz in A = 3231\n",
            "eps = 1.00e-04, alpha = 1.50, max_iters = 5000, normalize = 1, scale = 1.00\n",
            "acceleration_lookback = 10, rho_x = 1.00e-03\n",
            "Variables n = 181, constraints m = 359\n",
            "Cones:\tprimal zero / dual free vars: 179\n",
            "\tlinear vars: 122\n",
            "\tsd vars: 46, sd blks: 2\n",
            "\texp vars: 12, dual exp vars: 0\n",
            "Setup time: 1.48e-02s\n",
            "----------------------------------------------------------------------------\n",
            " Iter | pri res | dua res | rel gap | pri obj | dua obj | kap/tau | time (s)\n",
            "----------------------------------------------------------------------------\n",
            "     0| 3.94e+19  1.17e+20  1.00e+00 -8.98e+19  2.96e+20  3.46e+20  1.29e-02 \n",
            "    80| 3.94e-06  2.36e-05  3.46e-07 -1.35e-06 -1.01e-06  3.70e-16  4.09e-02 \n",
            "----------------------------------------------------------------------------\n",
            "Status: Solved\n",
            "Timing: Solve time: 4.10e-02s\n",
            "\tLin-sys: nnz in L factor: 4122, avg solve time: 1.90e-05s\n",
            "\tCones: avg projection time: 2.66e-04s\n",
            "\tAcceleration: avg step time: 1.45e-04s\n",
            "----------------------------------------------------------------------------\n",
            "Error metrics:\n",
            "dist(s, K) = 1.4590e-09, dist(y, K*) = 1.1317e-09, s'y/|s||y| = 9.3903e-13\n",
            "primal res: |Ax + s - b|_2 / (1 + |b|_2) = 3.9374e-06\n",
            "dual res:   |A'y + c|_2 / (1 + |c|_2) = 2.3603e-05\n",
            "rel gap:    |c'x + b'y| / (1 + |c'x| + |b'y|) = 3.4618e-07\n",
            "----------------------------------------------------------------------------\n",
            "c'x = -0.0000, -b'y = -0.0000\n",
            "============================================================================\n",
            "---------------------------------[Optimization Complete in 0.39 s]----------------------------------\n",
            "Complete: \n",
            " ~ sensitivity analysis took 0.42 CPU seconds.\n",
            " ~ optimization with SCS via cvxpy took 0.39 CPU seconds.\n",
            "####################################################################################################\n"
          ],
          "name": "stdout"
        }
      ]
    },
    {
      "cell_type": "markdown",
      "metadata": {
        "id": "OCoanbGZ268K",
        "colab_type": "text"
      },
      "source": [
        "# Step 8: view results\n",
        "\n"
      ]
    },
    {
      "cell_type": "code",
      "metadata": {
        "id": "PTOHYsp5246I",
        "colab_type": "code",
        "colab": {
          "base_uri": "https://localhost:8080/",
          "height": 476
        },
        "outputId": "45c3d4b0-5f0f-47f4-a19e-cef50b4652c7"
      },
      "source": [
        "designer_1.print_optimal_candidates(write=False)"
      ],
      "execution_count": 20,
      "outputs": [
        {
          "output_type": "stream",
          "text": [
            "\n",
            "######################################## Optimal Candidates ########################################\n",
            "Obtained on                             : 2020-09-09 10:17:30.370840\n",
            "Criterion                               : d_opt_criterion\n",
            "Pseudo-bayesian                         : False\n",
            "Dynamic                                 : False\n",
            "Time-invariant Controls                 : True\n",
            "Time-varying Controls                   : False\n",
            "Number of Candidates                    : 121\n",
            "Number of Optimal Candidates            : 4\n",
            "-------------------------------------------[Candidate 1]--------------------------------------------\n",
            "                             Recommended Effort: 25.00% of experiments                              \n",
            "Time-invariant Controls:\n",
            "[-1. -1.]\n",
            "-------------------------------------------[Candidate 11]-------------------------------------------\n",
            "                             Recommended Effort: 25.00% of experiments                              \n",
            "Time-invariant Controls:\n",
            "[-1.  1.]\n",
            "------------------------------------------[Candidate 111]-------------------------------------------\n",
            "                             Recommended Effort: 25.00% of experiments                              \n",
            "Time-invariant Controls:\n",
            "[ 1. -1.]\n",
            "------------------------------------------[Candidate 121]-------------------------------------------\n",
            "                             Recommended Effort: 25.00% of experiments                              \n",
            "Time-invariant Controls:\n",
            "[1. 1.]\n",
            "####################################################################################################\n"
          ],
          "name": "stdout"
        }
      ]
    },
    {
      "cell_type": "markdown",
      "metadata": {
        "id": "cdx0SRbl3ILz",
        "colab_type": "text"
      },
      "source": [
        "For this specific example, we expect a standard factorial design. Here, we present the design in the most familiar way to confirm that the design really is a factorial design."
      ]
    },
    {
      "cell_type": "code",
      "metadata": {
        "id": "Hxx5MDJdXwi9",
        "colab_type": "code",
        "colab": {
          "base_uri": "https://localhost:8080/",
          "height": 297
        },
        "outputId": "1e08b218-4b99-4554-d78d-374693ad1c65"
      },
      "source": [
        "designer_1.plot_optimal_controls(non_opt_candidates=True)\n",
        "designer_1.show_plots()"
      ],
      "execution_count": 23,
      "outputs": [
        {
          "output_type": "display_data",
          "data": {
            "image/png": "[encoded data removed]",
            "text/plain": [
              "<Figure size 432x288 with 1 Axes>"
            ]
          },
          "metadata": {
            "tags": [],
            "needs_background": "light"
          }
        }
      ]
    }
  ]
}